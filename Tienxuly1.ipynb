{
 "cells": [
  {
   "cell_type": "code",
   "execution_count": 1,
   "metadata": {},
   "outputs": [],
   "source": [
    "import os\n",
    "import shutil"
   ]
  },
  {
   "cell_type": "markdown",
   "metadata": {},
   "source": [
    "Tạo 32 folder riêng cho từng lá"
   ]
  },
  {
   "cell_type": "code",
   "execution_count": 39,
   "metadata": {},
   "outputs": [],
   "source": [
    "leaves_fix_folder_path = \"D:/flavia-alpha/BTL/Leaves_fix/\"\n",
    "for i in range(1, 33):\n",
    "    folder_name = str(i)\n",
    "    folder_path = os.path.join(leaves_fix_folder_path, folder_name)\n",
    "    os.makedirs(folder_path)"
   ]
  },
  {
   "cell_type": "markdown",
   "metadata": {},
   "source": [
    "Phân loại các loại lá về folder riêng"
   ]
  },
  {
   "cell_type": "code",
   "execution_count": 38,
   "metadata": {},
   "outputs": [],
   "source": [
    "\n",
    "# Đường dẫn đến thư mục chứa các ảnh\n",
    "source_folder = \"D:/flavia-alpha/BTL/Leaves/\"\n",
    "\n",
    "# Đường dẫn đến thư mục chứa các thư mục con\n",
    "destination_folder = \"D:/flavia-alpha/BTL/Leaves_fix/32/\"\n",
    "\n",
    "# Lấy danh sách tất cả các file trong thư mục gốc\n",
    "files = os.listdir(source_folder)\n",
    "\n",
    "# Sắp xếp các file theo thứ tự tên\n",
    "sorted_files = sorted(files)\n",
    "\n",
    "# Tạo các thư mục con dựa trên thứ tự tên\n",
    "for i, file_name in enumerate(sorted_files):\n",
    "    \n",
    "    \n",
    "    if i < 56:\n",
    "        # Đường dẫn đến file nguồn\n",
    "        source_file_path = os.path.join(source_folder, file_name)\n",
    "    \n",
    "        # Đường dẫn đến file đích\n",
    "        destination_file_path = os.path.join(destination_folder, file_name)\n",
    "    \n",
    "         # Di chuyển file vào thư mục đích\n",
    "        shutil.move(source_file_path, destination_file_path)\n"
   ]
  },
  {
   "cell_type": "markdown",
   "metadata": {},
   "source": []
  },
  {
   "cell_type": "code",
   "execution_count": null,
   "metadata": {},
   "outputs": [],
   "source": [
    "\n",
    "\n"
   ]
  },
  {
   "cell_type": "code",
   "execution_count": null,
   "metadata": {},
   "outputs": [],
   "source": []
  }
 ],
 "metadata": {
  "kernelspec": {
   "display_name": "base",
   "language": "python",
   "name": "python3"
  },
  "language_info": {
   "codemirror_mode": {
    "name": "ipython",
    "version": 3
   },
   "file_extension": ".py",
   "mimetype": "text/x-python",
   "name": "python",
   "nbconvert_exporter": "python",
   "pygments_lexer": "ipython3",
   "version": "3.10.9"
  },
  "orig_nbformat": 4
 },
 "nbformat": 4,
 "nbformat_minor": 2
}
